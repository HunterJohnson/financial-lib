<!DOCTYPE html>
<html>
<head>
<script type="text/javascript">var NREUMQ=NREUMQ||[];NREUMQ.push(["mark","firstbyte",new Date().getTime()]);</script>
<link href="https://www.quantopian.com/assets/logos/favicon-q-935e97d84f44e8129efc1d823c3fcada.png" rel="shortcut icon" type="image/vnd.microsoft.icon" />
<title>
Research - Quantopian
</title>
<link href="https://www.quantopian.com/assets/quanto-base-bundle-9f50bcf427ac049ee4926da5056bc548.css" media="all" rel="stylesheet" type="text/css" />
<link href="https://www.quantopian.com/assets/research-index-633b294b6656ebdc89ca083ee54eb333.css" media="all" rel="stylesheet" type="text/css" />
<script src="https://www.quantopian.com/assets/quanto_global-ad83eb9cafd78b6056cc50fbceb74b42.js" type="text/javascript"></script>
<script src="https://www.quantopian.com/assets/research_bundle-952ab209e420ddb29814e2376ebec3d0.js" type="text/javascript"></script>
<script src="//use.typekit.com/uvj7txo.js" type="text/javascript"></script>
<script type="text/javascript">
//<![CDATA[
try{Typekit.load()}catch(e){}
//]]>
</script>
<script src="https://js.stripe.com/v2/" type="text/javascript"></script>
<meta content='pk_live_qyEzgiIO9PIT9AEbwiX8qw6g' name='stripe-key'>
<meta content="authenticity_token" name="csrf-param" />
<meta content="d3Q+aAXuEiJjMYZIOlFZUlj5/QXai7xDrkSEnfgczyE=" name="csrf-token" />
<meta content='width=device-width, initial-scale=1.0' name='viewport'>
<script src="https://www.quantopian.com/assets/application_markdown-7a6bef15a2e6fcf1ff38875a1b1b21bf.js" type="text/javascript"></script>

<input id="current_user_id" name="user_id" type="hidden" value="53905f3db4873df7450002aa" />
<input id="quanto-env" name="env" type="hidden" value="production" />
</head>
<body class='full-screen notebook' ontouchstart=''>
<div id='fb-root'></div>
<div class='wrapper' id='research-index'>
<div class='navbar navbar-dark navbar-default navbar-static-top' id='app-navbar'>
<div class='container-fluid'>
<div class='navbar-header'>
<button class='navbar-toggle collapsed' data-target='#app-navbar-collapse' data-toggle='collapse'>
<span class='icon hamburger-menu'></span>
</button>
<a class='navbar-brand' href='/home'>
<div class='logo-image'></div>
</a>
</div>
<div class='collapse navbar-collapse' id='app-navbar-collapse'>
<ul class='nav navbar-nav navbar-right'>
<li class='dropdown hidden unconfirmed-user-header'>
<a class='header' data-toggle='dropdown' href='#'>
<span class='icon icon-warning'></span>
Unconfirmed Account
</a>
<ul class='dropdown-menu no-close-on-click'>
<div class='confirm-dropdown'>
<div>
Click on the confirmation link in the email that Quantopian sent to <strong class="confirm-email-address">
</strong>.
</div>
<div class='margin_10t'>
<button class='btn resend-confirmation' id='resend-confirmation-email-button'>Resend Confirmation Email</button>
</div>
</div>
</ul>
</li>
<li class='no-border'>
<a class='header' href='/investor_relations'>Investor Relations</a>
</li>
<li>
<a class='header' href='/fund'>Capital</a>
</li>
<li>
<a class='header' href='/data'>Data</a>
</li>
<li class='dropdown quanto-dropdown-new'>
<a class='header' data-toggle='dropdown' href='#'>
My Code
</a>
<ul class='dropdown-menu quanto-dropdown-new'>
<li>
<a href='/research'>Notebooks</a>
</li>
<li>
<a href='/algorithms'>Algorithms</a>
</li>
</ul>
</li>
<li class='dropdown quanto-dropdown-new'>
<a class='header' data-toggle='dropdown' href='#'>
Community
</a>
<ul class='dropdown-menu'>
<li>
<a class='' href='/posts' id='community-header-link'>Forums</a>
</li>
<li>
<a href='/open'>Contest</a>
</li>
<li>
<a href='http://www.quantcon.com'>QuantCon</a>
</li>
</ul>
</li>
<li class='dropdown quanto-dropdown-new'>
<a class='header' data-toggle='dropdown' href='#'>
Learn & Support
</a>
<ul class='dropdown-menu'>
<li>
<a href='/learn'>Learn</a>
</li>
<li>
<a class='open-feedback-link' href='#'>Contact Support</a>
</li>
</ul>
</li>
<li class='user-dropdown dropdown quanto-dropdown-new' href='#'>
<a class='avatar-link' data-toggle='dropdown' href='#'>
<img class='navbar-avatar' id='header-avatar-link' src='https://secure.gravatar.com/avatar/5a22acb16edaf28ecfc094fdc31d7de8?default=https%3A%2F%2Fs3.amazonaws.com%2Fquantopian-website-assets%2Fempty-profile.png&amp;s=40'>
</a>
<ul class='dropdown-menu' role='menu'>
<li class=''>
<a href="/users/53905f3db4873df7450002aa">Hunter Johnson
</a></li>
<li>
<a href='/account'>Account Settings</a>
</li>
<li><a href="/signout" data-method="post" id="header-logout-link" rel="nofollow">Sign Out</a></li>
</ul>
</li>
<li class='visible-mobile'>
<a data-method='post' href='/signout' id='header-logout-link'>
<img class='navbar-avatar' src='https://secure.gravatar.com/avatar/5a22acb16edaf28ecfc094fdc31d7de8?default=https%3A%2F%2Fs3.amazonaws.com%2Fquantopian-website-assets%2Fempty-profile.png&amp;s=40'>
<span class='sign-out'>Sign Out</span>
</a>
</li>

</ul>
</div>
</div>
</div>
<script>
  //<![CDATA[
    $(document).ready(function () {
      quanto.instances.fm = new quanto.FeedbackManager();
      quanto.instances.hm = new quanto.headerManager();
    })
  //]]>
</script>


<div class='content content-area new-style'>
<div data-research-host-url='https://research-i-d8b7f748.prd.int.dynoquant.com' data-show-notebook-tour='true' id='research-data'></div>
<div class='loading-research-spinner'>
<div class='loading-message'>
<i class='icon icon-spinner icon-spin icon-large'></i>
<span>Connecting to Research...</span>
</div>
</div>
<iframe id='nb-iframe' src='https://research-i-d8b7f748.prd.int.dynoquant.com/user/53905f3db4873df7450002aa/notebooks/Cloned%20from%20%22Pipeline%20in%20Research%20-%20Build%2C%20Test%20and%20Visualize%20your%20Factors%20%26%20Filters%22.ipynb'></iframe>
<div class='fade quanto-modal modal' data-step='0' id='intro-modal' role='dialog'>
<div class='modal-dialog'>
<div class='modal-x-out'></div>
<div class='modal-content'>
<div class='modal-body'>
<div class='modal-area step0'>
<div class='title-text'>
New to research?
</div>
<div class='subtitle-text'>
We've created a simple introduction to highlight the value of research
and how it ties to Quantopian.
</div>
</div>
<div class='modal-area step1'>
<div class='step1-image'></div>
<div class='title-text'>
Unlimited access to data
</div>
<div class='subtitle-text'>
Unlimited access to all of Quantopian's data which you can sift through
to detect and transform signals into algorithms.
</div>
</div>
<div class='modal-area step2'>
<div class='step2-image'></div>
<div class='title-text'>
Plotting and analysis
</div>
<div class='subtitle-text'>
Extensive plotting, visualization, and statistical analysis tools to research
strategies and evaluate their effectiveness.
</div>
</div>
<div class='modal-area step3'>
<div class='step3-image'></div>
<div class='title-text'>
Flexible environment
</div>
<div class='subtitle-text'>
Find patterns and signals by assembling and evaluating data without restrictions or limitations.
</div>
</div>
</div>
<div class='modal-footer'>
<div class='step0'>
<button class='btn btn-link' data-dismiss='modal'>I'm all set</button>
<button class='btn btn-sm new-btn blue next'>Let's Go</button>
</div>
<div class='button-row step1'>
<button class='btn btn-sm new-btn light-grey prev'>Previous</button>
<div class='step-label'>1 of 3</div>
<button class='btn btn-sm new-btn blue next'>Next</button>
</div>
<div class='button-row step2'>
<button class='btn btn-sm new-btn light-grey prev'>Previous</button>
<div class='step-label'>2 of 3</div>
<button class='btn btn-sm new-btn blue next'>Next</button>
</div>
<div class='button-row step3'>
<button class='btn btn-sm new-btn light-grey prev'>Previous</button>
<div class='step-label'>3 of 3</div>
<button class='btn btn-sm new-btn blue done next'>Done</button>
</div>
</div>
</div>
</div>
<div class='step4'>
<div class='container'>
<div class='row'>
<div class='col-md-14'>
<button class='btn new-btn blue fade' data-toggle='popover' id='new-notebook'>
<span class='quanto-icon icon-add'></span>
</button>
</div>
</div>
</div>
</div>
</div>

<script>
  //<![CDATA[
    $(document).ready(function() {
      quanto.instances.research_mgr = new quanto.ResearchManager();
    });
  //]]>
</script>

<div class='fade modal' id='error-modal' role='dialog'>
<div class='modal-dialog'>
<div class='modal-content'>
<div class='modal-header'>
<h4 class='modal-title'>Error</h4>
</div>
<div class='modal-body body-content'>
<p>Sorry, something went wrong.  Try again or contact us by <a class='feedback-link'>sending feedback</a>.</p>
</div>
<div class='modal-footer'>
<button class='btn btn-primary' data-dismiss='modal' href='#'>Close</button>
</div>

</div>
</div>
</div>

<div class='fade modal' id='confirmation-modal' role='dialog'>
<div class='modal-dialog'>
<div class='modal-content'>
<div class='modal-header'>
<h4 class='modal-title'></h4>
</div>
<div class='modal-body body-content'></div>
<div class='modal-footer'>
<button class='btn btn-default' data-dismiss='modal'>Cancel</button>
<button class='btn btn-primary action-button' data-dismiss='modal'></button>
</div>

</div>
</div>
</div>

<div class='fade modal' id='feedback-modal' role='dialog'>
<div class='modal-dialog'>
<div class='modal-content'>
<div class='modal-header'>
<h3 class='modal-title'>Send Feedback</h3>
</div>
<div class='modal-body'>
<div class='controls'>
<div class='from margin_15b'>
<span class='valign-top'>From: </span>
<span class='bold'>Hunter Johnson</span>
<span>
(<a class="__cf_email__" href="/cdn-cgi/l/email-protection" data-cfemail="08607d667c6d7a60677f697a6c626760667b6766486f65696164266b6765">[email&#160;protected]</a><script data-cfhash='f9e31' type="text/javascript">/* <![CDATA[ */!function(t,e,r,n,c,a,p){try{t=document.currentScript||function(){for(t=document.getElementsByTagName('script'),e=t.length;e--;)if(t[e].getAttribute('data-cfhash'))return t[e]}();if(t&&(c=t.previousSibling)){p=t.parentNode;if(a=c.getAttribute('data-cfemail')){for(e='',r='0x'+a.substr(0,2)|0,n=2;a.length-n;n+=2)e+='%'+('0'+('0x'+a.substr(n,2)^r).toString(16)).slice(-2);p.replaceChild(document.createTextNode(decodeURIComponent(e)),c)}p.removeChild(t)}}catch(u){}}()/* ]]> */</script>)
</span>
</div>
<textarea autofocus class='form-control input-xxlarge width_100pct' id='feedback-box' rows='10'></textarea>
<div class='feedback-checkbox'>
<form class='form-inline'>
<label class='checkbox approve-support'>
Do you give Quantopian support permission to view this algorithm for the purposes of debugging?
<input name='approve-support-radio' type='radio' value='true'>Yes</input>
<input name='approve-support-radio' type='radio' value='false'>No</input>
</label>
</form>
</div>
</div>
<div class='success hidden'>
<span>Thank you!  We will be in touch soon.</span>
</div>
</div>
<div class='modal-footer'>
<div class='controls'>
<button class='btn btn-default' data-dismiss='modal'>Cancel</button>
<button class='btn btn-primary' id='send-feedback-button'>Send</button>
</div>
<div class='success hidden'>
<a class='btn btn-primary' data-dismiss='modal' href='#'>Close</a>
</div>
</div>

</div>
</div>
</div>

<div class='fade modal' id='join-modal' role='dialog'>
<div class='modal-dialog'>
<div class='modal-content'>
<div class='modal-header'>
<h3 class='modal-title'>Join Quantopian.  It's free!</h3>
</div>
<div class='modal-body'>
<p class='large'>Once you join, you can:</p>
<div class='margin_20t'>
<div class='action'>
<i class='icon icon-copy'></i>
Create more algorithms
</div>
<div class='action'>
<i class='icon icon-bar-chart'></i>
Run full backtests, with detailed risk metrics and full transaction reports
</div>
<div class='action'>
<i class='icon icon-comments-alt'></i>
Post and share in our community
</div>
<div class='action'>
<i class='icon icon-trophy'></i>
Submit algorithms to the Quantopian Open
</div>
</div>
<div class='margin_20t margin_20b large'>Don't worry, all your work is already saved.</div>
</div>
<div class='modal-footer'>
<div class='pull-left'>
<a class='btn btn-default btn-large' data-dismiss='modal' href='#'>Close</a>
</div>
<a class='btn btn-primary btn-large font-14' href='/users/sign_up'>Join Quantopian</a>
<a class='btn btn-default btn-large font-14 login-button' href='/users/sign_in'>Log In</a>
</div>

</div>
</div>
</div>

<div class='fade modal' id='message-modal' role='dialog'>
<div class='modal-dialog'>
<div class='modal-content'>
<div class='modal-header'>
<h3 class='modal-title'></h3>
</div>
<div class='modal-body'></div>
<div class='modal-footer'>
<button class='btn btn-primary' data-dismiss='modal' id='message-modal-close'>Close</button>
</div>

</div>
</div>
</div>

<div class='fade modal' id='confirm-modal' role='dialog'>
<div class='modal-dialog'>
<div class='modal-content'>
<div class='modal-header'>
<h3>Confirm your Quantopian account</h3>
</div>
<div class='modal-body'>
<p class='large'>Once you confirm your Quantopian account, you'll be good to go.  Click on the link in the confirmation email that we sent to <strong><a class="__cf_email__" href="/cdn-cgi/l/email-protection" data-cfemail="6a021f041e0f1802051d0b180e000502041905042a0d070b030644090507">[email&#160;protected]</a><script data-cfhash='f9e31' type="text/javascript">/* <![CDATA[ */!function(t,e,r,n,c,a,p){try{t=document.currentScript||function(){for(t=document.getElementsByTagName('script'),e=t.length;e--;)if(t[e].getAttribute('data-cfhash'))return t[e]}();if(t&&(c=t.previousSibling)){p=t.parentNode;if(a=c.getAttribute('data-cfemail')){for(e='',r='0x'+a.substr(0,2)|0,n=2;a.length-n;n+=2)e+='%'+('0'+('0x'+a.substr(n,2)^r).toString(16)).slice(-2);p.replaceChild(document.createTextNode(decodeURIComponent(e)),c)}p.removeChild(t)}}catch(u){}}()/* ]]> */</script></strong>.</p>
<div class='margin_20t large'>To resend the confirmation email, use the 'Unconfirmed Account' dropdown at the top of the page.</div>
</div>
<div class='modal-footer'>
<a class='btn' data-dismiss='modal' href='#'>Close</a>
</div>

</div>
</div>
</div>

</div>
<div class='footer' id='quanto-footer-container'>
<div class='container'>
<div class='row header-row'>
<div class='col-sm-fourth span3'>
<div class='logotype-image'></div>
</div>
<div class='col-sm-fourth span3'></div>
<div class='col-sm-fourth span3'></div>
<div class='col-sm-fourth span3'>
<div class='feedback-email'>
Need Help?
<a class='open-feedback-link'>Contact Support</a>
</div>
</div>
</div>
<div class='row'>
<div class='col-sm-fourth span3'>
<div class='header'>Company</div>
<div class='footer-row'>
<a href='/about'>About</a>
</div>
<div class='footer-row'>
<a href='/academia'>Academia</a>
</div>
<div class='footer-row'>
<a href='/workshops'>Workshops</a>
</div>
<div class='footer-row'>
<a href='/jobs'>Careers</a>
</div>
<div class='footer-row'>
<a href='/posts'>Community</a>
</div>
<div class='footer-row'>
<a href='/investor_relations'>Investor Relations</a>
</div>
</div>
<div class='col-sm-fourth span3'>
<div class='header'>Learn &amp; Support</div>
<div class='footer-row'>
<a href='/tutorials/getting-started'>Getting Started</a>
</div>
<div class='footer-row'>
<a href='/faq'>FAQs</a>
</div>
<div class='footer-row'>
<a href='/help'>Help &amp; API docs</a>
</div>
<div class='footer-row'>
<a href='/tutorials'>Tutorials</a>
</div>
<div class='footer-row'>
<a href='/lectures'>Lectures</a>
</div>
<div class='footer-row'>
<a href='http://status.quantopian.com'>Site Status</a>
</div>
<div class='footer-row'>
<a href='/security'>Security</a>
</div>
</div>
<div class='col-sm-fourth span3'>
<div class='header'>Notices</div>
<div class='footer-row'>
<a href='/policies/terms'>Terms of Use</a>
</div>
<div class='footer-row'>
<a href='/policies/privacy'>Privacy Policy</a>
</div>
<div class='footer-row'>
<a href='/policies/risks'>Trading Risk</a>
</div>
<div class='footer-row'>
<a href='/policies/live_trading'>Brokerage Terms</a>
</div>
</div>
<div class='col-sm-fourth span3'>
<div class='header'>Follow Us</div>
<div class='footer-row'>
<a href='http://www.twitter.com/quantopian'>Twitter</a>
</div>
<div class='footer-row'>
<a href='http://www.facebook.com/quantopian'>Facebook</a>
</div>
<div class='footer-row'>
<a href='http://www.linkedin.com/company/quantopian'>LinkedIn</a>
</div>
<div class='footer-row'>
<a href='http://blog.quantopian.com'>Blog</a>
</div>
</div>
</div>
<div class='row'>
<div class='col-xs-14 span12'>
<div class='disclaimer'>
<p>
Quantopian provides this website to help people write trading algorithms - the website is
not intended to provide investment advice.
</p>
<p>
More specifically, the material on this website is provided for informational purposes
only and does not constitute an offer to sell, a solicitation to buy, or a recommendation
or endorsement for any security or strategy, nor does it constitute an offer to provide
investment advisory or other services by Quantopian.
</p>
<p>
In addition, the content of the website neither constitutes investment advice nor offers
any opinion with respect to the suitability of any security or any specific investment.
Quantopian makes no guarantees as to accuracy or completeness of the views expressed in
the website. The views are subject to change, and may have become unreliable for various
reasons, including changes in market conditions or economic circumstances.
</p>
</div>
</div>
</div>
</div>
</div>
<div class='mobile-footer'>
<div class='mobile-nav-category main-links'>
<div class='mobile-nav-row-footer'>
<a href='/about'>About Quantopian</a>
</div>
<div class='mobile-nav-row-footer'>
<a href='/jobs'>Careers</a>
</div>
<div class='mobile-nav-row-footer'>
<a href='/posts'>Community</a>
</div>
<div class='mobile-nav-row-footer'>
<a href='/help'>Help</a>
</div>
<div class='mobile-nav-row-footer'>
<a href='/academia'>Academia</a>
</div>
<div class='mobile-nav-row-footer'>
<a href='/lectures'>Lectures</a>
</div>
<div class='mobile-nav-row-footer'>
<a href='/workshops'>Workshops</a>
</div>
<div class='mobile-nav-row-footer'>
<a href='/investor_relations'>Investor Relations</a>
</div>
<div class='mobile-nav-row-footer'>
<a href='http://status.quantopian.com'>Status</a>
</div>
<div class='mobile-nav-row-footer'>
<a href='http://www.facebook.com/quantopian'>Facebook</a>
</div>
<div class='mobile-nav-row-footer'>
<a href='http://www.twitter.com/quantopian'>Twitter</a>
</div>
<div class='mobile-nav-row-footer'>
<a href='http://www.linkedin.com/company/quantopian'>LinkedIn</a>
</div>
<div class='mobile-nav-row-footer'>
<a href='http://blog.quantopian.com'>Blog</a>
</div>
<div class='mobile-nav-row-footer'>
<a href='/policies/terms'>Terms of Use</a>
</div>
<div class='mobile-nav-row-footer'>
<a href='/policies/privacy'>Privacy Policy</a>
</div>
</div>
<div class='mobile-nav-category'>
<div class='disclaimer'>
<p>
Quantopian provides this website to help people write trading algorithms - the website is not intended to provide investment advice.
</p>
<p>
More specifically, the material on this website is provided for informational purposes only and does not constitute an offer to sell, a solicitation to buy, or a recommendation or endorsement for any security or strategy, nor does it constitute an offer to provide investment advisory or other services by Quantopian.
</p>
<p>
In addition, the content of the website neither constitutes investment advice nor offers any opinion with respect to the suitability of any security or any specific investment. Quantopian makes no guarantees as to accuracy or completeness of the views expressed in the website. The views are subject to change, and may have become unreliable for various reasons, including changes in market conditions or economic circumstances.
</p>
</div>
</div>
</div>

</div>
</body>
</html>
<script>
  //<![CDATA[
    var _gaq = _gaq || [];
    _gaq.push(['_setAccount', 'UA-8519877-1']);
    _gaq.push(['_trackPageview']);
    _gaq.push(['_setDomainName', 'quantopian.com']);
    _gaq.push(['_setCustomVar', 1, 'quanto_session_id', 'session_5797a7330a17fbc2a80001da']);
    _gaq.push(['_setCustomVar', 2, 'quanto_user_id', '53905f3db4873df7450002aa']);
    
    (function() {
      var ga = document.createElement('script'); ga.type = 'text/javascript'; ga.async = true;
      ga.src = ('https:' == document.location.protocol ? 'https://ssl' : 'http://www') + '.google-analytics.com/ga.js';
      var s = document.getElementsByTagName('script')[0]; s.parentNode.insertBefore(ga, s);
    })();
  //]]>
</script>


<input id="is_mac" name="is_mac" type="hidden" value="false" />
<script>
  //<![CDATA[
    (function(c,a){window.mixpanel=a;var b,d,h,e;b=c.createElement("script");b.type="text/javascript";b.async=!0;b.src=("https:"===c.location.protocol?"https:":"http:")+'//cdn.mxpnl.com/libs/mixpanel-2-latest.min.js';
    d=c.getElementsByTagName("script")[0];d.parentNode.insertBefore(b,d);a._i=[];a.init=function(b,c,f){function d(a,b){var c=b.split(".");2==c.length&&(a=a[c[0]],b=c[1]);
    a[b]=function(){a.push([b].concat(Array.prototype.slice.call(arguments,0)))}}
    var g=a;"undefined"!==typeof f? g=a[f]=[]:f="mixpanel";g.people=g.people||[];
    h="disable track track_pageview track_links track_forms register register_once unregister identify name_tag set_config people.identify people.set people.increment".split(" ");for(e=0;e<h.length;e++) d(g,h[e]);a._i.push([b,c,f])};a.__SV=1.1})(document,window.mixpanel||[]);mixpanel.init("75873953cd404bcc1da88a55ff51e3b4")
  //]]>
</script>

<script>
  //<![CDATA[
    mixpanel.register({"$email": "hunterhowardjohnson@gmail.com"})
    mixpanel.people.set({"$email": "hunterhowardjohnson@gmail.com", "$name": "Hunter Johnson"})
    mixpanel.identify("53905f3db4873df7450002aa");
  //]]>
</script>

<script>
  //<![CDATA[
    mixpanel.track("view page", {"page": window.location.pathname})
  //]]>
</script>
<script type="text/javascript">if (typeof NREUMQ !== "undefined") { if (!NREUMQ.f) { NREUMQ.f=function() {
NREUMQ.push(["load",new Date().getTime()]);
var e=document.createElement("script");
e.type="text/javascript";
e.src=(("http:"===document.location.protocol)?"http:":"https:") + "//" +
  "js-agent.newrelic.com/nr-100.js";
document.body.appendChild(e);
if(NREUMQ.a)NREUMQ.a();
};
NREUMQ.a=window.onload;window.onload=NREUMQ.f;
};
NREUMQ.push(["nrfj","bam.nr-data.net","59252e476d","984851","dAlXTUcKWFpQRBlFXEQDWEtWDRtfW1JTTw==",16,71,new Date().getTime(),"","","","",""]);}</script>

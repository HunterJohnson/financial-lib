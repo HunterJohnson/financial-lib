{
 "cells": [
  {
   "cell_type": "code",
   "execution_count": 941,
   "metadata": {
    "collapsed": true
   },
   "outputs": [],
   "source": [
    "from scipy.optimize import minimize\n",
    "import numpy as np\n",
    "import pandas as pd\n",
    "from matplotlib import pyplot as plt"
   ]
  },
  {
   "cell_type": "code",
   "execution_count": 967,
   "metadata": {
    "collapsed": true
   },
   "outputs": [],
   "source": [
    "log_pricing = np.log(get_pricing([\"AAPL\", \"TSLA\", \"BA\", \"BND\", \"FB\", \"UUP\"],\n",
    "                             fields=\"close_price\",\n",
    "                             start_date=\"2014-07-01\",\n",
    "                             end_date=\"2015-08-01\"))"
   ]
  },
  {
   "cell_type": "code",
   "execution_count": 972,
   "metadata": {
    "collapsed": false
   },
   "outputs": [],
   "source": [
    "returns = log_pricing.pct_change().dropna()"
   ]
  },
  {
   "cell_type": "code",
   "execution_count": 969,
   "metadata": {
    "collapsed": false
   },
   "outputs": [],
   "source": [
    "# Computes the weights for the portfolio with the smallest Mean Absolute Deviation.\n",
    "def minimum_MAD_portfolio(returns):\n",
    "    \n",
    "    \n",
    "    def _sum_check(x):\n",
    "        return sum(abs(x)) - 1\n",
    "    \n",
    "    \n",
    "    # Computes the Mean Absolute Deviation for the current iteration of weights\n",
    "    def _mad(x, returns):\n",
    "        return (returns - returns.mean()).dot(x).abs().mean()\n",
    "    \n",
    "    \n",
    "    num_assets = len(returns.columns)\n",
    "    guess = np.ones(num_assets)\n",
    "    cons = {'type':'eq', 'fun': _sum_check}\n",
    "    min_mad_results = minimize(_mad, guess, args=returns, constraints=cons)\n",
    "    \n",
    "    return pd.Series(index=returns.columns, data=min_mad_results.x)"
   ]
  },
  {
   "cell_type": "code",
   "execution_count": 973,
   "metadata": {
    "collapsed": false,
    "scrolled": false
   },
   "outputs": [
    {
     "name": "stdout",
     "output_type": "stream",
     "text": [
      "Equity(24 [AAPL])       0.051106\n",
      "Equity(39840 [TSLA])    0.045194\n",
      "Equity(698 [BA])        0.069590\n",
      "Equity(33652 [BND])     0.522317\n",
      "Equity(42950 [FB])     -0.095736\n",
      "Equity(33370 [UUP])     0.216057\n",
      "dtype: float64\n"
     ]
    }
   ],
   "source": [
    "weights = minimum_MAD_portfolio(returns)\n",
    "print(weights)"
   ]
  },
  {
   "cell_type": "code",
   "execution_count": 976,
   "metadata": {
    "collapsed": false
   },
   "outputs": [
    {
     "data": {
      "image/png": "[encoded data removed]",
      "text/plain": [
       "<matplotlib.figure.Figure at 0x7f5960106b50>"
      ]
     },
     "metadata": {},
     "output_type": "display_data"
    }
   ],
   "source": [
    "plt.axis(\"equal\")\n",
    "plt.title(\"Minimum MAD Portfolio\", fontsize=25, color=\"#333333\")\n",
    "pie_wedge_collection = plt.pie(weights.abs().order(),\n",
    "                               labels=[security.symbol for security in weights.abs().order().index],\n",
    "                               colors=[\"#F0F0F0\",\n",
    "                                       \"#DBDBDB\",\n",
    "                                       \"#BFBFBF\",\n",
    "                                       \"#A8A8A8\",\n",
    "                                       \"#737373\",\n",
    "                                       \"#4F4F4F\"])\n",
    "\n",
    "for pie_wedge in pie_wedge_collection[0]:\n",
    "    pie_wedge.set_edgecolor('none')\n",
    "for text in pie_wedge_collection[1]:\n",
    "    text.set_fontsize(15)\n"
   ]
  },
  {
   "cell_type": "markdown",
   "metadata": {},
   "source": [
    "#### Questions? | jhall@quantopian.com\n",
    "\n",
    "Don't have a Quantopian account? \n",
    "[Join now and start coding!](https://www.quantopian.com/users/sign_up)"
   ]
  },
  {
   "cell_type": "code",
   "execution_count": null,
   "metadata": {
    "collapsed": true
   },
   "outputs": [],
   "source": []
  }
 ],
 "metadata": {
  "kernelspec": {
   "display_name": "Python 2",
   "language": "python",
   "name": "python2"
  },
  "language_info": {
   "codemirror_mode": {
    "name": "ipython",
    "version": 2
   },
   "file_extension": ".py",
   "mimetype": "text/x-python",
   "name": "python",
   "nbconvert_exporter": "python",
   "pygments_lexer": "ipython2",
   "version": "2.7.10"
  }
 },
 "nbformat": 4,
 "nbformat_minor": 0
}
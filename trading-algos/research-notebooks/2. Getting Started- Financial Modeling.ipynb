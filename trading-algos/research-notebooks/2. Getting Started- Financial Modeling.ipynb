{
 "cells": [
  {
   "cell_type": "markdown",
   "metadata": {},
   "source": [
    " \n",
    "##Example 1 - Gold vs. Gold Mining##\n",
    "\n",
    "*****\n",
    "\n",
    "##Execute each cell by clicking on it and pressing shift + enter.\n",
    "\n",
    "******"
   ]
  },
  {
   "cell_type": "code",
   "execution_count": null,
   "metadata": {
    "collapsed": false
   },
   "outputs": [],
   "source": [
    "miners = symbols('GDX') #Create a variable for our gold mining ETF\n",
    "gold = symbols('GLD') #Create a variable for our gold ETF\n",
    "\n",
    "data = get_pricing([miners, gold], #First we get the daily close prices for the two ETFs\n",
    "            fields='close_price', \n",
    "            start_date='2006-06-01', #From 2007 through 2014\n",
    "            end_date='2014-12-31')\n",
    "\n",
    "data.plot() #We plot the prices together to see if there is an interesting correlation\n",
    "\n",
    "#We also plot their relative returns. \n",
    "\n",
    "returns = data.pct_change().dropna()\n",
    "returns.plot() "
   ]
  },
  {
   "cell_type": "markdown",
   "metadata": {},
   "source": [
    "****\n",
    "Research is great for finding correlations among equities. The data above, plots `$GLD`, an ETF for the price of gold, against `$GDX`, an ETF looking at the gold mining industry.\n",
    "\n",
    "****\n",
    "To continue the analysis, we can import Seaborn, a statistical plotting library to use the distplot function. This allows us to plot the distribution of returns for `$GDX`\n",
    "****"
   ]
  },
  {
   "cell_type": "code",
   "execution_count": null,
   "metadata": {
    "collapsed": false
   },
   "outputs": [],
   "source": [
    "import seaborn as sns\n",
    "\n",
    "sns.distplot(returns.iloc[:,0:1]) "
   ]
  },
  {
   "cell_type": "markdown",
   "metadata": {},
   "source": [
    "************\n",
    "We can also review the correlation between `$GLD` and `$GDX` by running a linear regression and plotting the best fitting line, the confidence interval (shaded regions) and the Pearson regression coefficient as well as p-value.\n",
    "************"
   ]
  },
  {
   "cell_type": "code",
   "execution_count": null,
   "metadata": {
    "collapsed": false
   },
   "outputs": [],
   "source": [
    "#Get the historical close prices for USO and ITA individually\n",
    "\n",
    "GLD = get_pricing(symbols(gold),\n",
    "            fields='close_price',\n",
    "            start_date='2007-01-02',\n",
    "            end_date='2014-12-31')\n",
    "\n",
    "GDX = get_pricing(symbols(miners),\n",
    "            fields='close_price',\n",
    "            start_date='2007-01-02',\n",
    "            end_date='2014-12-31')\n",
    "\n",
    "#Calculate the returns for each\n",
    "\n",
    "returns_GLD = GLD.pct_change().dropna()\n",
    "returns_GDX = GDX.pct_change().dropna()\n",
    "\n",
    "#Plot using Seaborn's jointplot function\n",
    "\n",
    "sns.jointplot(returns_GLD, returns_GDX, kind='reg', size=12)\n"
   ]
  },
  {
   "cell_type": "markdown",
   "metadata": {
    "collapsed": true
   },
   "source": [
    "*******\n",
    "\n",
    "From these graphs, you can begin to analyze if there is a possible opportunity to invest in the correlation between the gold and gold miner industries. \n",
    "\n",
    "If you return to the first cell, you can try out different combinations of stocks to look for something more or less correlated. Perhaps `$AAPL` and `$HPQ` or `$PEP` and `$KO`? \n",
    "\n",
    "********\n",
    "#Example 2 - US Housing vs. S&P  500\n",
    "\n",
    "We can also import external data and compare it to historical market data.\n",
    "\n",
    "In this case, we've taken a csv showing housing price data from Quandl (https://www.quandl.com/FRED/ASPNHSUS-Average-Sales-Price-for-New-Houses-Sold-in-the-United-States,) stored the data in the /data directory in Quantopian research.\n",
    "\n",
    "**********"
   ]
  },
  {
   "cell_type": "code",
   "execution_count": null,
   "metadata": {
    "collapsed": false
   },
   "outputs": [],
   "source": [
    "import matplotlib.pyplot as pyplot\n",
    "\n",
    "# Load the average sales prices of US homes from the csv residing in your data directory\n",
    "us_housing_prices = local_csv('FRED-ASPNHSUS.csv', date_column='Date')\\\n",
    "    .sort_index(ascending=True)\n",
    "    \n",
    "# Get the historical prices for SPY, the ETF for the S&P 500\n",
    "spy_daily_prices = get_pricing(\n",
    "    'SPY', \n",
    "    fields='close_price', \n",
    "    start_date='2002-01-01', \n",
    "    end_date = '2014-12-31', \n",
    "    frequency='daily',\n",
    ")    \n",
    "\n",
    "# Normalize the data for easy comparison\n",
    "spy_daily_prices = spy_daily_prices/spy_daily_prices.iloc[0]\n",
    "us_housing_prices = us_housing_prices/us_housing_prices.iloc[0]\n",
    "\n",
    "# Plot them together with matplotlib\n",
    "us_housing_prices.plot(label=\"US Average Housing Price\")\n",
    "spy_daily_prices.plot(label=\"S&P 500 (SPY ETF)\")\n"
   ]
  },
  {
   "cell_type": "markdown",
   "metadata": {},
   "source": [
    "***********\n",
    "\n",
    "##Example 3 - Plotting Returns and Transactions \n",
    "\n",
    "With the `get_backtest` function, you have access to all of the data created by any backtest you run. This gives you unlimited flexibility in how you analyze your results. \n",
    "\n",
    "Here we plot the returns and transactions of this algo: https://www.quantopian.com/posts/quantopian-tutorial-with-portfolio-rebalance-algorithm-lesson-2-universe-fetcher-and-schedule-function\n",
    "\n",
    "**********"
   ]
  },
  {
   "cell_type": "code",
   "execution_count": null,
   "metadata": {
    "collapsed": false
   },
   "outputs": [],
   "source": [
    "# Load the results from a backtest into results\n",
    "results = get_backtest('548f4f3d885aef09019e9c36')\n",
    "\n",
    "# Load the results from a live algorithm - specific\n",
    "# ID omitted as live algorithms are always private.\n",
    "#\n",
    "# results = get_live_results('<live_algo_id>')\n",
    "\n",
    "# Plot the ending portfolio value\n",
    "ending_portfolio_value = results.cumulative_performance.ending_portfolio_value \n",
    "ending_portfolio_value.plot()\n",
    "\n",
    "# Add buy/sell markers to the second plot\n",
    "transactions = results.transactions\n",
    "buys = transactions[(transactions.amount > 0)] #get all the buys\n",
    "sells = transactions[(transactions.amount < 0)] # and all the sells\n",
    "pyplot.plot(buys.index, ending_portfolio_value.ix[buys.index],\n",
    "         '^', markersize=10, color='m', label='Buys') #plot the buys to be pink up arrows that are pink\n",
    "pyplot.plot(sells.index, ending_portfolio_value.ix[sells.index], #plot the sells to be black down arrows\n",
    "         'v', markersize=10, color='k', label='Sells')\n",
    "\n",
    "# Set figure metadata\n",
    "pyplot.title(\"Ending Portfolio Value with Buys and Sells\")\n",
    "pyplot.ylabel('portfolio value in $')\n",
    "pyplot.legend(loc=0)\n",
    "pyplot.show()"
   ]
  }
 ],
 "metadata": {
  "kernelspec": {
   "display_name": "Python 2",
   "language": "python",
   "name": "python2"
  },
  "language_info": {
   "codemirror_mode": {
    "name": "ipython",
    "version": 3
   },
   "file_extension": ".py",
   "mimetype": "text/x-python",
   "name": "python",
   "nbconvert_exporter": "python",
   "pygments_lexer": "ipython3",
   "version": "3.4.0"
  }
 },
 "nbformat": 4,
 "nbformat_minor": 0
}

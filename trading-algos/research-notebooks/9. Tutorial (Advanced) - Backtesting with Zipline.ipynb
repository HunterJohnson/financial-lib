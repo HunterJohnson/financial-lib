{
 "cells": [
  {
   "cell_type": "markdown",
   "metadata": {},
   "source": [
    "##Backtesting a Moving Average Crossover Strategy\n",
    "\n",
    "In this example we use `get_pricing` to load 10 years' worth of historical financial data for Apple's stock (i.e. the ticker symbol `AAPL`).\n",
    "\n",
    "We then define a Dual Moving Average Crossover algorithm with `zipline`, the open source backtesting library that powers Quantopian.\n",
    "\n",
    "Finally, we backtest our strategy against our loaded trade data and create visualization of our entry- and exitpoints."
   ]
  },
  {
   "cell_type": "code",
   "execution_count": null,
   "metadata": {
    "collapsed": false
   },
   "outputs": [],
   "source": [
    "# Import Zipline, the open source backester, and a few other libraries that we will use\n",
    "import zipline\n",
    "from zipline import TradingAlgorithm\n",
    "from zipline.api import order_target, record, symbol, history\n",
    "\n",
    "import pytz\n",
    "from datetime import datetime\n",
    "import matplotlib.pyplot as pyplot\n",
    "import numpy as np"
   ]
  },
  {
   "cell_type": "code",
   "execution_count": null,
   "metadata": {
    "collapsed": false
   },
   "outputs": [],
   "source": [
    "# Load data from get_trades for AAPL\n",
    "data = get_pricing(\n",
    "    ['AAPL'],\n",
    "    start_date='2002-01-01',\n",
    "    end_date = '2015-02-15',\n",
    "    frequency='daily'\n",
    ")\n",
    "data.price.plot(use_index=False)"
   ]
  },
  {
   "cell_type": "code",
   "execution_count": null,
   "metadata": {
    "collapsed": false
   },
   "outputs": [],
   "source": [
    "# Define the algorithm - this should look familiar from the Quantopian IDE\n",
    "# For more information on writing algorithms for Quantopian\n",
    "# and these functions, see https://www.quantopian.com/help\n",
    "\n",
    "def initialize(context):\n",
    "    context.i = 0\n",
    "    context.aapl = symbol('AAPL')\n",
    "\n",
    "def handle_data(context, data):\n",
    "    # Skip first 300 days to get full windows\n",
    "    context.i += 1\n",
    "    if context.i < 300:\n",
    "        return\n",
    "\n",
    "    # Compute averages\n",
    "    # history() has to be called with the same params\n",
    "    # from above and returns a pandas dataframe.\n",
    "    short_mavg = history(100, '1d', 'price').mean()\n",
    "    long_mavg = history(300, '1d', 'price').mean()\n",
    "\n",
    "    # Trading logic\n",
    "    if short_mavg[context.aapl] > long_mavg[context.aapl]:\n",
    "        # order_target orders as many shares as needed to\n",
    "        # achieve the desired number of shares.\n",
    "        order_target(context.aapl, 100)\n",
    "    elif short_mavg[context.aapl] < long_mavg[context.aapl]:\n",
    "        order_target(context.aapl, 0)\n",
    "\n",
    "    # Save values for later inspection\n",
    "    record(AAPL=data[context.aapl].price,\n",
    "           short_mavg=short_mavg[context.aapl],\n",
    "           long_mavg=long_mavg[context.aapl])"
   ]
  },
  {
   "cell_type": "code",
   "execution_count": null,
   "metadata": {
    "collapsed": false
   },
   "outputs": [],
   "source": [
    "# Analyze is a post-hoc analysis method available on Zipline. \n",
    "# It accepts the context object and 'perf' which is the output \n",
    "# of a Zipline backtest.  This API is currently experimental, \n",
    "# and will likely change before release.\n",
    "\n",
    "def analyze(context, perf):\n",
    "    fig = pyplot.figure()\n",
    "    \n",
    "    # Make a subplot for portfolio value.\n",
    "    ax1 = fig.add_subplot(211)\n",
    "    perf.portfolio_value.plot(ax=ax1, figsize=(16,12))\n",
    "    ax1.set_ylabel('portfolio value in $')\n",
    "\n",
    "    # Make another subplot showing our trades.\n",
    "    ax2 = fig.add_subplot(212)\n",
    "    perf['AAPL'].plot(ax=ax2, figsize=(16, 12))\n",
    "    perf[['short_mavg', 'long_mavg']].plot(ax=ax2)\n",
    "\n",
    "    perf_trans = perf.ix[[t != [] for t in perf.transactions]]\n",
    "    buys = perf_trans.ix[[t[0]['amount'] > 0 for t in perf_trans.transactions]]\n",
    "    sells = perf_trans.ix[\n",
    "        [t[0]['amount'] < 0 for t in perf_trans.transactions]]\n",
    "\n",
    "    # Add buy/sell markers to the second plot\n",
    "    ax2.plot(buys.index, perf.short_mavg.ix[buys.index],\n",
    "             '^', markersize=10, color='m')\n",
    "    ax2.plot(sells.index, perf.short_mavg.ix[sells.index],\n",
    "             'v', markersize=10, color='k')\n",
    "    \n",
    "    # Set figure metadata\n",
    "    ax2.set_ylabel('price in $')\n",
    "    pyplot.legend(loc=0)\n",
    "    pyplot.show()"
   ]
  },
  {
   "cell_type": "code",
   "execution_count": null,
   "metadata": {
    "collapsed": false
   },
   "outputs": [],
   "source": [
    "# NOTE: This cell will take a few minutes to run.\n",
    "\n",
    "# Create algorithm object passing in initialize and\n",
    "# handle_data functions\n",
    "algo_obj = TradingAlgorithm(\n",
    "    initialize=initialize, \n",
    "    handle_data=handle_data\n",
    ")\n",
    "\n",
    "# HACK: Analyze isn't supported by the parameter-based API, so\n",
    "# tack it directly onto the object.\n",
    "algo_obj._analyze = analyze\n",
    "\n",
    "# Run algorithm\n",
    "perf_manual = algo_obj.run(data.transpose(2,1,0))"
   ]
  }
 ],
 "metadata": {
  "kernelspec": {
   "display_name": "Python 3",
   "language": "python",
   "name": "python3"
  },
  "language_info": {
   "codemirror_mode": {
    "name": "ipython",
    "version": 3
   },
   "file_extension": ".py",
   "mimetype": "text/x-python",
   "name": "python",
   "nbconvert_exporter": "python",
   "pygments_lexer": "ipython3",
   "version": "3.4.0"
  }
 },
 "nbformat": 4,
 "nbformat_minor": 0
}
